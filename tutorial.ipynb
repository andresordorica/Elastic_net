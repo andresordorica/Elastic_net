{
 "cells": [
  {
   "cell_type": "code",
   "execution_count": 3,
   "id": "b84ab0b2",
   "metadata": {},
   "outputs": [
    {
     "name": "stdout",
     "output_type": "stream",
     "text": [
      "['/home/andres/Desktop/class/algo/proyect', '/home/andres/anaconda3/envs/andres/lib/python37.zip', '/home/andres/anaconda3/envs/andres/lib/python3.7', '/home/andres/anaconda3/envs/andres/lib/python3.7/lib-dynload', '', '/home/andres/anaconda3/envs/andres/lib/python3.7/site-packages', '/home/andres/anaconda3/envs/andres/lib/python3.7/site-packages/IPython/extensions', '/home/andres/.ipython', '/home/andres/Desktop/class/algo/proyect/elastic_net']\n"
     ]
    }
   ],
   "source": [
    "import sys\n",
    "import numpy as np\n",
    "import os\n",
    "#sys.path.append(os.getcwd() +\"/elastic_net\")\n",
    "#The directory elastic_net is the place where the file was downloaded and compiled\n",
    "#from elastic_net import ElasticNet\n",
    "print(sys.path)\n",
    "sys.path.append(\"/home/andres/Desktop/class/algo/proyect/cython/elastic_net\")\n",
    "from elastic_net import ElasticNet"
   ]
  },
  {
   "cell_type": "code",
   "execution_count": 5,
   "id": "8f63a203",
   "metadata": {},
   "outputs": [],
   "source": [
    "\n",
    "\n",
    "#Your Data (X) and target_variables (y) should be np.arrays\n",
    "#In this example the X,y have been split into training and testing data sets\n",
    "#Example\n",
    "\n",
    "def test_train_split(x_array, y_array, train_size = 0.6, shuffle=True):\n",
    "    if x_array.ndim > 1:\n",
    "        np.random.shuffle(x_array)\n",
    "    new_matrix = np.append(x_array, y_array.reshape(-1, 1), axis=1)\n",
    "    num_rows = int((np.shape(new_matrix)[0]) * train_size)\n",
    "    x_train, y_train = new_matrix[:num_rows, :-1], new_matrix[:num_rows, -1]\n",
    "    x_test, y_test = new_matrix[num_rows:, :-1], new_matrix[num_rows:, -1]\n",
    "    return x_train, y_train, x_test, y_test"
   ]
  },
  {
   "cell_type": "code",
   "execution_count": 6,
   "id": "c7083db7",
   "metadata": {},
   "outputs": [
    {
     "name": "stdout",
     "output_type": "stream",
     "text": [
      "(100, 3)\n",
      "(100, 1)\n"
     ]
    }
   ],
   "source": [
    "# create a 100 by 3 matrix of random values between 0 and 1\n",
    "X = np.random.rand(100, 3)\n",
    "# create a 100 by 1 matrix of random values between 0 and 1\n",
    "y = np.random.rand(100, 1)\n",
    "\n",
    "print(X.shape)\n",
    "print(y.shape)\n"
   ]
  },
  {
   "cell_type": "code",
   "execution_count": 7,
   "id": "91f72d0e",
   "metadata": {},
   "outputs": [],
   "source": [
    "#Here we initiate the model \n",
    "model = ElasticNet(alpha=0.5, l1_ratio=1, max_iter=1000, tol=0.0001)\n",
    "\n",
    "#Case 1\n",
    "##l1_ratio = 0 ;                         Ridge Regression (l2 normalization) and alpha any number\n",
    "#Case 2\n",
    "##l1_ratio = 1 ;                         Lasso Regression (l1 normalization) and alpha any number\n",
    "#Case 3\n",
    "##l1_ratio = 0 and alpha =0;             Linear regression (l2 normalization)\n",
    "#Case 4\n",
    "## 0 < l1_ratio < 1 and alpha any number; Elastic Net Regression\n",
    "\n",
    "# In this example we are performing an elastic net regression\n"
   ]
  },
  {
   "cell_type": "code",
   "execution_count": 8,
   "id": "b8daaaa1",
   "metadata": {},
   "outputs": [],
   "source": [
    "#First we separate our data into training and testing with a 70% of the data for trainig\n",
    "x_train, y_train, x_test, y_test = test_train_split(X,y, train_size = 0.7)"
   ]
  },
  {
   "cell_type": "code",
   "execution_count": 9,
   "id": "1c03a4ef",
   "metadata": {},
   "outputs": [
    {
     "name": "stdout",
     "output_type": "stream",
     "text": [
      "<elastic_net.ElasticNet object at 0x7fe77c093d70>\n"
     ]
    }
   ],
   "source": [
    "#Now we initialize the model\n",
    "model = ElasticNet(alpha=0.5, l1_ratio=1, max_iter=1000, tol=0.0001)\n",
    "\n",
    "#Case 1\n",
    "##l1_ratio = 0 ;                         Ridge Regression (l2 normalization) and alpha any number\n",
    "#Case 2\n",
    "##l1_ratio = 1 ;                         Lasso Regression (l1 normalization) and alpha any number\n",
    "#Case 3\n",
    "##l1_ratio = 0 and alpha =0;             Linear regression (l2 normalization)\n",
    "#Case 4\n",
    "## 0 < l1_ratio < 1 and alpha any number; Elastic Net Regression\n",
    "\n",
    "# In this example we are performing an elastic net regression\n",
    "\n",
    "print(model)"
   ]
  },
  {
   "cell_type": "code",
   "execution_count": 10,
   "id": "b9f5f841",
   "metadata": {},
   "outputs": [
    {
     "name": "stderr",
     "output_type": "stream",
     "text": [
      " 25%|████████████████████████████▋                                                                                      | 249/1000 [00:00<00:00, 8173.60it/s]"
     ]
    },
    {
     "name": "stdout",
     "output_type": "stream",
     "text": [
      "Converged in 250 iterations\n"
     ]
    },
    {
     "name": "stderr",
     "output_type": "stream",
     "text": [
      "\n"
     ]
    }
   ],
   "source": [
    "# We fit the model to the training data\n",
    "model.fit(x_train, y_train)"
   ]
  },
  {
   "cell_type": "code",
   "execution_count": 11,
   "id": "7ace53a3",
   "metadata": {},
   "outputs": [
    {
     "name": "stdout",
     "output_type": "stream",
     "text": [
      "[0.00542355 0.00491754 0.00246183 0.00616074 0.00801385 0.00092516\n",
      " 0.00438867 0.00167756 0.00730749 0.00195478 0.00800271 0.00420365\n",
      " 0.00086172 0.00747433 0.00126935 0.00438789 0.00609869 0.00237545\n",
      " 0.00761467 0.00352006 0.00456541 0.00181664 0.00473029 0.00160576\n",
      " 0.00736092 0.00387932 0.00804425 0.0077908  0.00709474 0.00641617]\n",
      "0.4622287161611742\n"
     ]
    }
   ],
   "source": [
    "# We compute use the beta vector from the fit to compute the y_predicted\n",
    "# And the error of y_predicted/y_test with a Mean Squared Error (MSE)\n",
    "y_pred, error = model.predict(x_test,y_test, intercept = False)\n",
    "print(y_pred)\n",
    "print(error)"
   ]
  },
  {
   "cell_type": "code",
   "execution_count": null,
   "id": "2ac136cd",
   "metadata": {},
   "outputs": [],
   "source": []
  }
 ],
 "metadata": {
  "kernelspec": {
   "display_name": "Python 3 (ipykernel)",
   "language": "python",
   "name": "python3"
  },
  "language_info": {
   "codemirror_mode": {
    "name": "ipython",
    "version": 3
   },
   "file_extension": ".py",
   "mimetype": "text/x-python",
   "name": "python",
   "nbconvert_exporter": "python",
   "pygments_lexer": "ipython3",
   "version": "3.7.12"
  }
 },
 "nbformat": 4,
 "nbformat_minor": 5
}
